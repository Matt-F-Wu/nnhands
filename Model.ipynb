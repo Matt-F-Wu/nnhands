{
 "cells": [
  {
   "cell_type": "code",
   "execution_count": null,
   "metadata": {
    "collapsed": true
   },
   "outputs": [],
   "source": [
    "import torch\n",
    "import numpy as np\n",
    "import torchvision.models as models\n",
    "\n",
    "# use resnet50 as our base NN stucture for joints detection\n",
    "model = models.resnet50(pretrained=True)\n",
    "for param in model.parameters():\n",
    "    # don't change/update the pretrained model parameters, only change the final fc layer\n",
    "    param.requires_grad = False\n",
    "    \n",
    "# Further build the model, TODO: define JoinPredictionLayer\n",
    "# Parameters of newly constructed modules have requires_grad=True by default\n",
    "model.fc = JointPredictionLayer()\n",
    "# run on GPU\n",
    "model.cuda()\n",
    "\n",
    "# optimizer using adam\n",
    "optimizer = optim.Adam(resnet50.parameters(), lr = 0.0001)\n",
    "\n",
    "for epoch in range(20):\n",
    "    for X_batch, y_batch in loader:\n",
    "        y_pred = resnet50(X_batch)\n",
    "        # use cross entropy loss\n",
    "        loss = torch.nn.functional.cross_entropy(y_pred, y_batch)\n",
    "        \n",
    "        loss.backward()\n",
    "        optimizer.step()\n",
    "        # Clears the gradients of all optimized torch.Tensor s\n",
    "        optimizer.zero_grad()"
   ]
  }
 ],
 "metadata": {
  "kernelspec": {
   "display_name": "Python 3",
   "language": "python",
   "name": "python3"
  },
  "language_info": {
   "codemirror_mode": {
    "name": "ipython",
    "version": 3
   },
   "file_extension": ".py",
   "mimetype": "text/x-python",
   "name": "python",
   "nbconvert_exporter": "python",
   "pygments_lexer": "ipython3",
   "version": "3.6.3"
  }
 },
 "nbformat": 4,
 "nbformat_minor": 2
}
